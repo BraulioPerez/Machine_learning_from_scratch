{
 "cells": [
  {
   "cell_type": "code",
   "execution_count": 1,
   "id": "b2d1b6eb-2037-495c-ba06-a1b4456c26cd",
   "metadata": {},
   "outputs": [],
   "source": [
    "import numpy as np\n",
    "from sklearn import datasets, model_selection, metrics\n",
    "from decision_tree import DecisionTree\n",
    "import matplotlib.pyplot as plt"
   ]
  },
  {
   "cell_type": "markdown",
   "id": "83fa9859",
   "metadata": {},
   "source": [
    "#### Common Iris dataset from sklearn"
   ]
  },
  {
   "cell_type": "code",
   "execution_count": 2,
   "id": "221c63f9",
   "metadata": {},
   "outputs": [
    {
     "name": "stdout",
     "output_type": "stream",
     "text": [
      "Train Shape: (112, 4)\n",
      "Train Shape: (38, 4)\n"
     ]
    }
   ],
   "source": [
    "iris = datasets.load_iris()\n",
    "\n",
    "X = np.array(iris.data)\n",
    "Y = np.array(iris.target)\n",
    "\n",
    "X_train, X_test, Y_train, Y_test = model_selection.train_test_split(X, Y, test_size=0.25, random_state=0)\n",
    "print(\"Train Shape:\", X_train.shape)\n",
    "print(\"Train Shape:\", X_test.shape)"
   ]
  },
  {
   "cell_type": "code",
   "execution_count": 3,
   "id": "d2d18b37",
   "metadata": {},
   "outputs": [],
   "source": [
    "# Building the tree\n",
    "my_tree = DecisionTree(max_depth=5, min_samples_leaf=1, min_information_gain=0)\n",
    "my_tree.train(X_train, Y_train)"
   ]
  },
  {
   "cell_type": "code",
   "execution_count": 4,
   "id": "87e90a1a",
   "metadata": {},
   "outputs": [
    {
     "name": "stdout",
     "output_type": "stream",
     "text": [
      "                                                                -> LEAF | Label Counts = 0.0->4 | Pred Probs = [1. 0. 0.]\n",
      "                                                -> NODE | Information Gain = 0.0 | Split IF X[0] < 4.8 THEN left O/W right\n",
      "                                                                -> LEAF | Label Counts = 0.0->6 | Pred Probs = [1. 0. 0.]\n",
      "                                -> NODE | Information Gain = 0.998363672593813 | Split IF X[2] < 3.0 THEN left O/W right\n",
      "                                                                -> LEAF | Label Counts = 1.0->5 | Pred Probs = [0. 1. 0.]\n",
      "                                                -> NODE | Information Gain = 0.0 | Split IF X[0] < 5.6 THEN left O/W right\n",
      "                                                                -> LEAF | Label Counts = 1.0->6 | Pred Probs = [0. 1. 0.]\n",
      "                -> NODE | Information Gain = 0.33977167868466684 | Split IF X[1] < 3.2 THEN left O/W right\n",
      "                                                                -> LEAF | Label Counts = 0.0->5 | Pred Probs = [1. 0. 0.]\n",
      "                                                -> NODE | Information Gain = 0.0 | Split IF X[0] < 4.75 THEN left O/W right\n",
      "                                                                -> LEAF | Label Counts = 0.0->5 | Pred Probs = [1. 0. 0.]\n",
      "                                -> NODE | Information Gain = 0.0 | Split IF X[0] < 5.1 THEN left O/W right\n",
      "                                                                -> LEAF | Label Counts = 0.0->7 | Pred Probs = [1. 0. 0.]\n",
      "                                                -> NODE | Information Gain = 0.0 | Split IF X[0] < 5.2 THEN left O/W right\n",
      "                                                                -> LEAF | Label Counts = 0.0->10 | Pred Probs = [1. 0. 0.]\n",
      "-> NODE | Information Gain = 0.7095311377468411 | Split IF X[3] < 1.3 THEN left O/W right\n",
      "                                                                -> LEAF | Label Counts = 1.0->5 | Pred Probs = [0. 1. 0.]\n",
      "                                                -> NODE | Information Gain = 0.0 | Split IF X[0] < 5.7 THEN left O/W right\n",
      "                                                                -> LEAF | Label Counts = 1.0->7 | Pred Probs = [0. 1. 0.]\n",
      "                                -> NODE | Information Gain = 0.18642770252216523 | Split IF X[2] < 4.5 THEN left O/W right\n",
      "                                                                -> LEAF | Label Counts = 1.0->3, 2.0->5 | Pred Probs = [0.    0.375 0.625]\n",
      "                                                -> NODE | Information Gain = 0.22109108561988422 | Split IF X[1] < 2.9 THEN left O/W right\n",
      "                                                                -> LEAF | Label Counts = 1.0->8, 2.0->1 | Pred Probs = [0.         0.88888889 0.11111111]\n",
      "                -> NODE | Information Gain = 0.6088858430669675 | Split IF X[2] < 5.1 THEN left O/W right\n",
      "                                                                -> LEAF | Label Counts = 2.0->7 | Pred Probs = [0. 0. 1.]\n",
      "                                                -> NODE | Information Gain = 0.0 | Split IF X[0] < 6.35 THEN left O/W right\n",
      "                                                                -> LEAF | Label Counts = 2.0->7 | Pred Probs = [0. 0. 1.]\n",
      "                                -> NODE | Information Gain = 0.0 | Split IF X[0] < 6.7 THEN left O/W right\n",
      "                                                                -> LEAF | Label Counts = 2.0->10 | Pred Probs = [0. 0. 1.]\n",
      "                                                -> NODE | Information Gain = 0.0 | Split IF X[0] < 7.1 THEN left O/W right\n",
      "                                                                -> LEAF | Label Counts = 2.0->11 | Pred Probs = [0. 0. 1.]\n"
     ]
    }
   ],
   "source": [
    "# Let's see the tree\n",
    "my_tree.print_tree()"
   ]
  },
  {
   "cell_type": "code",
   "execution_count": 5,
   "id": "882af39d",
   "metadata": {},
   "outputs": [
    {
     "name": "stdout",
     "output_type": "stream",
     "text": [
      "TRAIN PERFORMANCE\n",
      "Train size 112\n",
      "True preds 108\n",
      "Train Accuracy 0.9642857142857143\n"
     ]
    }
   ],
   "source": [
    "train_preds = my_tree.predict(X_set=X_train)\n",
    "print(\"TRAIN PERFORMANCE\")\n",
    "print(\"Train size\", len(Y_train))\n",
    "print(\"True preds\", sum(train_preds == Y_train))\n",
    "print(\"Train Accuracy\", sum(train_preds == Y_train) / len(Y_train))"
   ]
  },
  {
   "cell_type": "code",
   "execution_count": 6,
   "id": "43e366c3",
   "metadata": {},
   "outputs": [
    {
     "name": "stdout",
     "output_type": "stream",
     "text": [
      "TEST PERFORMANCE\n",
      "Test size 38\n",
      "True preds 34\n",
      "Accuracy 0.8947368421052632\n"
     ]
    }
   ],
   "source": [
    "# Let's see the Test performance\n",
    "test_preds = my_tree.predict(X_set=X_test)\n",
    "print(\"TEST PERFORMANCE\")\n",
    "print(\"Test size\", len(Y_test))\n",
    "print(\"True preds\", sum(test_preds == Y_test))\n",
    "print(\"Accuracy\", sum(test_preds == Y_test) / len(Y_test))"
   ]
  },
  {
   "cell_type": "markdown",
   "id": "43d5878d",
   "metadata": {},
   "source": [
    "#### Breast cancer dataset"
   ]
  },
  {
   "cell_type": "code",
   "execution_count": 7,
   "id": "6cb1c270",
   "metadata": {},
   "outputs": [
    {
     "name": "stdout",
     "output_type": "stream",
     "text": [
      "Train Shape: (455, 30)\n",
      "Train Shape: (114, 30)\n"
     ]
    }
   ],
   "source": [
    "# Load data\n",
    "data = datasets.load_breast_cancer()\n",
    "X = data.data\n",
    "Y = data.target\n",
    "\n",
    "X_train, X_test, Y_train, Y_test = model_selection.train_test_split(X, Y, test_size=0.2, random_state=0)\n",
    "print(\"Train Shape:\", X_train.shape)\n",
    "print(\"Train Shape:\", X_test.shape)"
   ]
  },
  {
   "cell_type": "code",
   "execution_count": 8,
   "id": "1fe6b5d7",
   "metadata": {},
   "outputs": [],
   "source": [
    "# Building the tree\n",
    "my_tree_2 = DecisionTree(max_depth=4, min_samples_leaf=1, min_information_gain=0.05)\n",
    "my_tree_2.train(X_train, Y_train)"
   ]
  },
  {
   "cell_type": "code",
   "execution_count": 9,
   "id": "8ed10b6b",
   "metadata": {},
   "outputs": [
    {
     "name": "stdout",
     "output_type": "stream",
     "text": [
      "                -> LEAF | Label Counts = 0.0->5, 1.0->222 | Pred Probs = [0.02202643 0.97797357]\n",
      "-> NODE | Information Gain = 0.42814844913368955 | Split IF X[20] < 14.85 THEN left O/W right\n",
      "                                                -> LEAF | Label Counts = 0.0->4, 1.0->53 | Pred Probs = [0.07017544 0.92982456]\n",
      "                                -> NODE | Information Gain = 0.3922674180993554 | Split IF X[26] < 0.2649 THEN left O/W right\n",
      "                                                -> LEAF | Label Counts = 0.0->43, 1.0->14 | Pred Probs = [0.75438596 0.24561404]\n",
      "                -> NODE | Information Gain = 0.35402590419050384 | Split IF X[20] < 18.409999999999997 THEN left O/W right\n",
      "                                -> LEAF | Label Counts = 0.0->113, 1.0->1 | Pred Probs = [0.99122807 0.00877193]\n"
     ]
    }
   ],
   "source": [
    "\n",
    "my_tree_2.print_tree()"
   ]
  },
  {
   "cell_type": "code",
   "execution_count": 10,
   "id": "564e6a8c",
   "metadata": {},
   "outputs": [
    {
     "name": "stdout",
     "output_type": "stream",
     "text": [
      "TRAIN PERFORMANCE\n",
      "Train size 455\n",
      "True preds 431\n",
      "Train Accuracy 0.9472527472527472\n"
     ]
    }
   ],
   "source": [
    "# Let's see the Train performance\n",
    "train_preds = my_tree_2.predict(X_set=X_train)\n",
    "print(\"TRAIN PERFORMANCE\")\n",
    "print(\"Train size\", len(Y_train))\n",
    "print(\"True preds\", sum(train_preds == Y_train))\n",
    "print(\"Train Accuracy\", sum(train_preds == Y_train) / len(Y_train))"
   ]
  },
  {
   "cell_type": "code",
   "execution_count": 11,
   "id": "21b91746",
   "metadata": {},
   "outputs": [
    {
     "name": "stdout",
     "output_type": "stream",
     "text": [
      "TEST PERFORMANCE\n",
      "Test size 114\n",
      "True preds 108\n",
      "Accuracy 0.9473684210526315\n"
     ]
    }
   ],
   "source": [
    "# Let's see the Test performance\n",
    "test_preds = my_tree_2.predict(X_set=X_test)\n",
    "print(\"TEST PERFORMANCE\")\n",
    "print(\"Test size\", len(Y_test))\n",
    "print(\"True preds\", sum(test_preds == Y_test))\n",
    "print(\"Accuracy\", sum(test_preds == Y_test) / len(Y_test))"
   ]
  },
  {
   "cell_type": "markdown",
   "id": "8a2f9c92",
   "metadata": {},
   "source": [
    "#### Diabetes dataset"
   ]
  },
  {
   "cell_type": "code",
   "execution_count": 12,
   "id": "797d90ed",
   "metadata": {},
   "outputs": [],
   "source": [
    "from sklearn.datasets import fetch_openml"
   ]
  },
  {
   "cell_type": "code",
   "execution_count": 13,
   "id": "d7080353",
   "metadata": {},
   "outputs": [
    {
     "name": "stderr",
     "output_type": "stream",
     "text": [
      "c:\\Users\\braup\\AppData\\Local\\Programs\\Python\\Python312\\Lib\\site-packages\\sklearn\\datasets\\_openml.py:323: UserWarning: Multiple active versions of the dataset matching the name diabetes exist. Versions may be fundamentally different, returning version 1. Available versions:\n",
      "- version 1, status: active\n",
      "  url: https://www.openml.org/search?type=data&id=37\n",
      "- version 5, status: active\n",
      "  url: https://www.openml.org/search?type=data&id=42608\n",
      "\n",
      "  warn(warning_msg)\n"
     ]
    }
   ],
   "source": [
    "diabetes = fetch_openml(name=\"diabetes\")"
   ]
  },
  {
   "cell_type": "code",
   "execution_count": 14,
   "id": "e5b84adc",
   "metadata": {},
   "outputs": [
    {
     "name": "stdout",
     "output_type": "stream",
     "text": [
      "(768, 8)\n",
      "(768,)\n"
     ]
    }
   ],
   "source": [
    "diabetes_features = np.array(diabetes.data)\n",
    "print(diabetes_features.shape)\n",
    "diabetes_labels = np.array([y==\"tested_positive\" for y in diabetes.target]).astype(int)\n",
    "print(diabetes_labels.shape)"
   ]
  },
  {
   "cell_type": "code",
   "execution_count": 15,
   "id": "913efe50",
   "metadata": {},
   "outputs": [],
   "source": [
    "X_train, X_test, Y_train, Y_test = model_selection.train_test_split(diabetes_features, diabetes_labels, test_size=0.2, random_state=0)"
   ]
  },
  {
   "cell_type": "code",
   "execution_count": 16,
   "id": "cd77d6a6",
   "metadata": {},
   "outputs": [],
   "source": [
    "# Lets see how model performs with different max_depth thresholds\n",
    "\n",
    "train_accuracy_dict = {}\n",
    "test_accuracy_dict = {}\n",
    "# depth_occured = {}\n",
    "\n",
    "for depth in range(2, 21):\n",
    "    tree_model = DecisionTree(max_depth=depth, min_samples_leaf=1)\n",
    "    tree_model.train(X_train, Y_train)\n",
    "\n",
    "    # depth_occured[depth] = tree_model.current_de\n",
    "\n",
    "    # Train performance\n",
    "    train_preds = tree_model.predict(X_set=X_train)\n",
    "    train_accuracy = sum(train_preds == Y_train) / len(Y_train)\n",
    "    train_accuracy_dict[depth] = train_accuracy\n",
    "\n",
    "    # Test performance\n",
    "    test_preds = tree_model.predict(X_set=X_test)\n",
    "    test_accuracy = sum(test_preds == Y_test) / len(Y_test)\n",
    "    test_accuracy_dict[depth] = test_accuracy"
   ]
  },
  {
   "cell_type": "code",
   "execution_count": 17,
   "id": "ae9783e6",
   "metadata": {},
   "outputs": [
    {
     "data": {
      "image/png": "[encoded data removed]",
      "text/plain": [
       "<Figure size 640x480 with 1 Axes>"
      ]
     },
     "metadata": {},
     "output_type": "display_data"
    }
   ],
   "source": [
    "plt.plot(train_accuracy_dict.keys(), train_accuracy_dict.values(), label=\"Train\")\n",
    "plt.plot(test_accuracy_dict.keys(), test_accuracy_dict.values(), label=\"Test\")\n",
    "plt.title(\"Accuracy vs Depth for Diabetes Dataset\")\n",
    "plt.xlabel(\"Max Depth Threshold\")\n",
    "plt.ylabel(\"Accuracy\")\n",
    "plt.legend()\n",
    "plt.ylim(bottom=0.0)\n",
    "plt.show()"
   ]
  },
  {
   "cell_type": "code",
   "execution_count": null,
   "id": "d654ec64",
   "metadata": {},
   "outputs": [],
   "source": []
  }
 ],
 "metadata": {
  "kernelspec": {
   "display_name": "Python 3",
   "language": "python",
   "name": "python3"
  },
  "language_info": {
   "codemirror_mode": {
    "name": "ipython",
    "version": 3
   },
   "file_extension": ".py",
   "mimetype": "text/x-python",
   "name": "python",
   "nbconvert_exporter": "python",
   "pygments_lexer": "ipython3",
   "version": "3.12.10"
  }
 },
 "nbformat": 4,
 "nbformat_minor": 5
}
